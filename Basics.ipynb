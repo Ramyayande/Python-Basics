{
 "cells": [
  {
   "cell_type": "code",
   "execution_count": 1,
   "id": "1d377270",
   "metadata": {},
   "outputs": [
    {
     "data": {
      "text/plain": [
       "['item', 'item', 'item']"
      ]
     },
     "execution_count": 1,
     "metadata": {},
     "output_type": "execute_result"
    }
   ],
   "source": [
    "my_list = ['item']\n",
    "my_list *= 3\n",
    "my_list"
   ]
  },
  {
   "cell_type": "code",
   "execution_count": 2,
   "id": "84f2e61a",
   "metadata": {},
   "outputs": [
    {
     "data": {
      "text/plain": [
       "'Hello world!'"
      ]
     },
     "execution_count": 2,
     "metadata": {},
     "output_type": "execute_result"
    }
   ],
   "source": [
    "greeting = 'Hello'\n",
    "greeting += ' world!'\n",
    "greeting"
   ]
  },
  {
   "cell_type": "code",
   "execution_count": 3,
   "id": "de88bcd7",
   "metadata": {},
   "outputs": [
    {
     "data": {
      "text/plain": [
       "'Hello world!'"
      ]
     },
     "execution_count": 3,
     "metadata": {},
     "output_type": "execute_result"
    }
   ],
   "source": [
    "greeting = 'Hello'\n",
    "greeting += ' world!'\n",
    "greeting"
   ]
  },
  {
   "cell_type": "markdown",
   "id": "be92f7ee",
   "metadata": {},
   "source": [
    "# Data Types\n",
    "### Data Type\tExamples\n",
    "### Integers\t-2, -1, 0, 1, 2, 3, 4, 5\n",
    "### Floating-point numbers\t-1.25, -1.0, --0.5, 0.0, 0.5, 1.0, 1.25\n",
    "### Strings\t'a', 'aa', 'aaa', 'Hello!', '11 cats'"
   ]
  },
  {
   "cell_type": "markdown",
   "id": "6c83d8dc",
   "metadata": {},
   "source": [
    "# Concatenation and Replication"
   ]
  },
  {
   "cell_type": "markdown",
   "id": "de9327c4",
   "metadata": {},
   "source": [
    "## String concatenation:"
   ]
  },
  {
   "cell_type": "code",
   "execution_count": 4,
   "id": "873e8fd3",
   "metadata": {},
   "outputs": [
    {
     "data": {
      "text/plain": [
       "'AliceBob'"
      ]
     },
     "execution_count": 4,
     "metadata": {},
     "output_type": "execute_result"
    }
   ],
   "source": [
    "'Alice' 'Bob'"
   ]
  },
  {
   "cell_type": "code",
   "execution_count": 5,
   "id": "468369eb",
   "metadata": {},
   "outputs": [
    {
     "data": {
      "text/plain": [
       "'AliceAliceAliceAliceAlice'"
      ]
     },
     "execution_count": 5,
     "metadata": {},
     "output_type": "execute_result"
    }
   ],
   "source": [
    "'Alice' * 5"
   ]
  },
  {
   "cell_type": "markdown",
   "id": "a8f1a2bc",
   "metadata": {},
   "source": [
    "# Variables"
   ]
  },
  {
   "cell_type": "markdown",
   "id": "92be3101",
   "metadata": {},
   "source": [
    "## You can name a variable anything as long as it obeys the following rules:\n",
    "### 1. It can be only one word.\n"
   ]
  },
  {
   "cell_type": "code",
   "execution_count": 6,
   "id": "595e7719",
   "metadata": {},
   "outputs": [
    {
     "ename": "SyntaxError",
     "evalue": "invalid syntax (55488935.py, line 1)",
     "output_type": "error",
     "traceback": [
      "\u001b[1;36m  Input \u001b[1;32mIn [6]\u001b[1;36m\u001b[0m\n\u001b[1;33m    my variable = 'Hello'\u001b[0m\n\u001b[1;37m       ^\u001b[0m\n\u001b[1;31mSyntaxError\u001b[0m\u001b[1;31m:\u001b[0m invalid syntax\n"
     ]
    }
   ],
   "source": [
    "my variable = 'Hello' # Throw an Error"
   ]
  },
  {
   "cell_type": "code",
   "execution_count": 7,
   "id": "12dd956e",
   "metadata": {},
   "outputs": [],
   "source": [
    "var = 'Hello'"
   ]
  },
  {
   "cell_type": "markdown",
   "id": "43b5a9ac",
   "metadata": {},
   "source": [
    "### 2. It can use only letters, numbers, and the underscore (_) character."
   ]
  },
  {
   "cell_type": "code",
   "execution_count": 8,
   "id": "87007f8d",
   "metadata": {},
   "outputs": [
    {
     "name": "stderr",
     "output_type": "stream",
     "text": [
      "UsageError: Line magic function `%$@variable` not found.\n"
     ]
    }
   ],
   "source": [
    "%$@variable = 'Hello'   # Throw an Error"
   ]
  },
  {
   "cell_type": "code",
   "execution_count": 9,
   "id": "5f373385",
   "metadata": {},
   "outputs": [],
   "source": [
    "my_var = 'Hello'"
   ]
  },
  {
   "cell_type": "code",
   "execution_count": 10,
   "id": "254afadf",
   "metadata": {},
   "outputs": [],
   "source": [
    "my_var_2 = 'Hello'"
   ]
  },
  {
   "cell_type": "markdown",
   "id": "b1db41eb",
   "metadata": {},
   "source": [
    "### 3. It can’t begin with a number."
   ]
  },
  {
   "cell_type": "code",
   "execution_count": 11,
   "id": "67b67767",
   "metadata": {},
   "outputs": [
    {
     "ename": "SyntaxError",
     "evalue": "invalid decimal literal (938489622.py, line 1)",
     "output_type": "error",
     "traceback": [
      "\u001b[1;36m  Input \u001b[1;32mIn [11]\u001b[1;36m\u001b[0m\n\u001b[1;33m    23_var = 'hello'\u001b[0m\n\u001b[1;37m      ^\u001b[0m\n\u001b[1;31mSyntaxError\u001b[0m\u001b[1;31m:\u001b[0m invalid decimal literal\n"
     ]
    }
   ],
   "source": [
    "23_var = 'hello'    # Throw an Error"
   ]
  },
  {
   "cell_type": "markdown",
   "id": "82b22253",
   "metadata": {},
   "source": [
    "### 4. Variable name starting with an underscore (_) are considered as “unuseful”."
   ]
  },
  {
   "cell_type": "code",
   "execution_count": 12,
   "id": "78150d90",
   "metadata": {},
   "outputs": [],
   "source": [
    "_spam = 'Hello'"
   ]
  },
  {
   "cell_type": "markdown",
   "id": "c9ff46ee",
   "metadata": {},
   "source": [
    "## The print() Function"
   ]
  },
  {
   "cell_type": "markdown",
   "id": "acaa89e7",
   "metadata": {},
   "source": [
    "### The print() function writes the value of the argument(s) it is given. […] it handles multiple arguments, floating point-quantities, and strings. Strings are printed without quotes, and a space is inserted between items, so you can format things nicely:"
   ]
  },
  {
   "cell_type": "code",
   "execution_count": 13,
   "id": "b21ff95a",
   "metadata": {},
   "outputs": [
    {
     "name": "stdout",
     "output_type": "stream",
     "text": [
      "Hello world!\n"
     ]
    }
   ],
   "source": [
    "print('Hello world!')"
   ]
  },
  {
   "cell_type": "code",
   "execution_count": 15,
   "id": "9cc4c1f8",
   "metadata": {},
   "outputs": [
    {
     "name": "stdout",
     "output_type": "stream",
     "text": [
      "Hello world! 1\n"
     ]
    }
   ],
   "source": [
    "a = 1\n",
    "print('Hello world!', a)"
   ]
  },
  {
   "cell_type": "markdown",
   "id": "a82a668c",
   "metadata": {},
   "source": [
    "## The end keyword"
   ]
  },
  {
   "cell_type": "markdown",
   "id": "0ee09c5b",
   "metadata": {},
   "source": [
    "### The keyword argument end can be used to avoid the newline after the output, or end the output with a different string:"
   ]
  },
  {
   "cell_type": "code",
   "execution_count": 16,
   "id": "81a84d53",
   "metadata": {},
   "outputs": [
    {
     "name": "stdout",
     "output_type": "stream",
     "text": [
      "printed-with-a-dash-in-between-"
     ]
    }
   ],
   "source": [
    "phrase = ['printed', 'with', 'a', 'dash', 'in', 'between']\n",
    "for word in phrase:\n",
    "    print(word, end='-')"
   ]
  },
  {
   "cell_type": "markdown",
   "id": "cc32072a",
   "metadata": {},
   "source": [
    "## The sep keyword"
   ]
  },
  {
   "cell_type": "markdown",
   "id": "55144f2c",
   "metadata": {},
   "source": [
    "### The keyword sep specify how to separate the objects, if there is more than one:"
   ]
  },
  {
   "cell_type": "code",
   "execution_count": 17,
   "id": "c84b92fe",
   "metadata": {},
   "outputs": [
    {
     "name": "stdout",
     "output_type": "stream",
     "text": [
      "cats,dogs,mice\n"
     ]
    }
   ],
   "source": [
    "print('cats', 'dogs', 'mice', sep=',')"
   ]
  },
  {
   "cell_type": "markdown",
   "id": "a497fb2d",
   "metadata": {},
   "source": [
    "## The input() Function"
   ]
  },
  {
   "cell_type": "markdown",
   "id": "03949c58",
   "metadata": {},
   "source": [
    "### This function takes the input from the user and converts it into a string:"
   ]
  },
  {
   "cell_type": "code",
   "execution_count": 20,
   "id": "94c800c9",
   "metadata": {},
   "outputs": [
    {
     "name": "stdout",
     "output_type": "stream",
     "text": [
      "What is your name?\n",
      "\n",
      "Hi, \n"
     ]
    }
   ],
   "source": [
    "print('What is your name?')   # ask for their name\n",
    "my_name = input()\n",
    "print('Hi, {}'.format(my_name))"
   ]
  },
  {
   "cell_type": "markdown",
   "id": "e6ccfd9b",
   "metadata": {},
   "source": [
    "### input() can also set a default message without using print():"
   ]
  },
  {
   "cell_type": "code",
   "execution_count": 21,
   "id": "e6fe2bb6",
   "metadata": {},
   "outputs": [
    {
     "name": "stdout",
     "output_type": "stream",
     "text": [
      "What is your name? \n",
      "Hi, \n"
     ]
    }
   ],
   "source": [
    "my_name = input('What is your name? ')  # default message\n",
    "print('Hi, {}'.format(my_name))"
   ]
  },
  {
   "cell_type": "markdown",
   "id": "e09e9534",
   "metadata": {},
   "source": [
    "## The len() Function"
   ]
  },
  {
   "cell_type": "markdown",
   "id": "001700f9",
   "metadata": {},
   "source": [
    "### Evaluates to the integer value of the number of characters in a string, list, dictionary, etc.:"
   ]
  },
  {
   "cell_type": "code",
   "execution_count": 22,
   "id": "bcdca4b4",
   "metadata": {},
   "outputs": [
    {
     "data": {
      "text/plain": [
       "5"
      ]
     },
     "execution_count": 22,
     "metadata": {},
     "output_type": "execute_result"
    }
   ],
   "source": [
    "len('hello')"
   ]
  },
  {
   "cell_type": "code",
   "execution_count": 23,
   "id": "66898727",
   "metadata": {},
   "outputs": [
    {
     "data": {
      "text/plain": [
       "3"
      ]
     },
     "execution_count": 23,
     "metadata": {},
     "output_type": "execute_result"
    }
   ],
   "source": [
    "len(['cat', 3, 'dog'])"
   ]
  },
  {
   "cell_type": "markdown",
   "id": "9206a879",
   "metadata": {},
   "source": [
    "# Test of emptiness"
   ]
  },
  {
   "cell_type": "markdown",
   "id": "9ae98c15",
   "metadata": {},
   "source": [
    "### Test of emptiness of strings, lists, dictionaries, etc., should not use len, but prefer direct boolean evaluation."
   ]
  },
  {
   "cell_type": "markdown",
   "id": "2bad4f6e",
   "metadata": {},
   "source": [
    "### Test of emptiness example:"
   ]
  },
  {
   "cell_type": "code",
   "execution_count": 24,
   "id": "3eca6f1a",
   "metadata": {},
   "outputs": [
    {
     "name": "stdout",
     "output_type": "stream",
     "text": [
      "the list is not empty!\n",
      "the list is not empty!\n"
     ]
    }
   ],
   "source": [
    "a = [1, 2, 3]\n",
    "\n",
    "# bad\n",
    "if len(a) > 0:  # evaluates to True\n",
    "    print(\"the list is not empty!\")\n",
    "# the list is not empty!\n",
    "\n",
    "# good\n",
    "if a: # evaluates to True\n",
    "    print(\"the list is not empty!\")"
   ]
  },
  {
   "cell_type": "markdown",
   "id": "d6d5c85d",
   "metadata": {},
   "source": [
    "# The str(), int(), and float() Functions"
   ]
  },
  {
   "cell_type": "markdown",
   "id": "992d33bb",
   "metadata": {},
   "source": [
    "### These functions allow you to change the type of variable. For example, you can transform from an integer or float to a string:"
   ]
  },
  {
   "cell_type": "code",
   "execution_count": 25,
   "id": "58a441f5",
   "metadata": {},
   "outputs": [
    {
     "data": {
      "text/plain": [
       "'29'"
      ]
     },
     "execution_count": 25,
     "metadata": {},
     "output_type": "execute_result"
    }
   ],
   "source": [
    "str(29)"
   ]
  },
  {
   "cell_type": "code",
   "execution_count": 26,
   "id": "802a5e11",
   "metadata": {},
   "outputs": [
    {
     "data": {
      "text/plain": [
       "'-3.14'"
      ]
     },
     "execution_count": 26,
     "metadata": {},
     "output_type": "execute_result"
    }
   ],
   "source": [
    "str(-3.14)"
   ]
  },
  {
   "cell_type": "markdown",
   "id": "18ad5f98",
   "metadata": {},
   "source": [
    "### Or from a string to an integer or float:"
   ]
  },
  {
   "cell_type": "code",
   "execution_count": 29,
   "id": "0d9d1b60",
   "metadata": {},
   "outputs": [
    {
     "data": {
      "text/plain": [
       "11"
      ]
     },
     "execution_count": 29,
     "metadata": {},
     "output_type": "execute_result"
    }
   ],
   "source": [
    "int('11')"
   ]
  },
  {
   "cell_type": "code",
   "execution_count": 31,
   "id": "f38a51c4",
   "metadata": {},
   "outputs": [
    {
     "data": {
      "text/plain": [
       "3.14"
      ]
     },
     "execution_count": 31,
     "metadata": {},
     "output_type": "execute_result"
    }
   ],
   "source": [
    "float('3.14')"
   ]
  },
  {
   "cell_type": "markdown",
   "id": "dd46ad88",
   "metadata": {},
   "source": [
    "# Python Built-in Functions"
   ]
  },
  {
   "cell_type": "markdown",
   "id": "179fd209",
   "metadata": {},
   "source": [
    "## The Python interpreter has a number of functions and types built into it that are always available."
   ]
  },
  {
   "cell_type": "markdown",
   "id": "8b4e9b98",
   "metadata": {},
   "source": [
    "### Python built-in Functions"
   ]
  },
  {
   "cell_type": "code",
   "execution_count": 33,
   "id": "3f19fcdc",
   "metadata": {},
   "outputs": [],
   "source": [
    "# Function\tDescription\n",
    "# abs()\tReturn the absolute value of a number.\n",
    "# aiter()\tReturn an asynchronous iterator for an asynchronous iterable.\n",
    "# all()\tReturn True if all elements of the iterable are true.\n",
    "# any()\tReturn True if any element of the iterable is true.\n",
    "# ascii()\tReturn a string with a printable representation of an object.\n",
    "# bin()\tConvert an integer number to a binary string.\n",
    "# bool()\tReturn a Boolean value.\n",
    "# breakpoint()\tDrops you into the debugger at the call site.\n",
    "# bytearray()\tReturn a new array of bytes.\n",
    "# bytes()\tReturn a new “bytes” object.\n",
    "# callable()\tReturn True if the object argument is callable, False if not.\n",
    "# chr()\tReturn the string representing a character.\n",
    "# classmethod()\tTransform a method into a class method.\n",
    "# compile()\tCompile the source into a code or AST object.\n",
    "# complex()\tReturn a complex number with the value real + imag*1j.\n",
    "# delattr()\tDeletes the named attribute, provided the object allows it.\n",
    "# dict()\tCreate a new dictionary.\n",
    "# dir()\tReturn the list of names in the current local scope.\n",
    "# divmod()\tReturn a pair of numbers consisting of their quotient and remainder.\n",
    "# enumerate()\tReturn an enumerate object.\n",
    "# eval()\tEvaluates and executes an expression.\n",
    "# exec()\tThis function supports dynamic execution of Python code.\n",
    "# filter()\tConstruct an iterator from an iterable and returns true.\n",
    "# float()\tReturn a floating point number from a number or string.\n",
    "# format()\tConvert a value to a “formatted” representation.\n",
    "# frozenset()\tReturn a new frozenset object.\n",
    "# getattr()\tReturn the value of the named attribute of object.\n",
    "# globals()\tReturn the dictionary implementing the current module namespace.\n",
    "# hasattr()\tTrue if the string is the name of one of the object’s attributes.\n",
    "# hash()\tReturn the hash value of the object.\n",
    "# help()\tInvoke the built-in help system.\n",
    "# hex()\tConvert an integer number to a lowercase hexadecimal string.\n",
    "# id()\tReturn the “identity” of an object.\n",
    "# input()\tThis function takes an input and converts it into a string.\n",
    "# int()\tReturn an integer object constructed from a number or string.\n",
    "# isinstance()\tReturn True if the object argument is an instance of an object.\n",
    "# issubclass()\tReturn True if class is a subclass of classinfo.\n",
    "# iter()\tReturn an iterator object.\n",
    "# len()\tReturn the length (the number of items) of an object.\n",
    "# list()\tRather than being a function, list is a mutable sequence type.\n",
    "# locals()\tUpdate and return a dictionary with the current local symbol table.\n",
    "# map()\tReturn an iterator that applies function to every item of iterable.\n",
    "# max()\tReturn the largest item in an iterable.\n",
    "# min()\tReturn the smallest item in an iterable.\n",
    "# next()\tRetrieve the next item from the iterator.\n",
    "# object()\tReturn a new featureless object.\n",
    "# oct()\tConvert an integer number to an octal string.\n",
    "# open()\tOpen file and return a corresponding file object.\n",
    "# ord()\tReturn an integer representing the Unicode code point of a character.\n",
    "# pow()\tReturn base to the power exp.\n",
    "# print()\tPrint objects to the text stream file.\n",
    "# property()\tReturn a property attribute.\n",
    "# repr()\tReturn a string containing a printable representation of an object.\n",
    "# reversed()\tReturn a reverse iterator.\n",
    "# round()\tReturn number rounded to ndigits precision after the decimal point.\n",
    "# set()\tReturn a new set object.\n",
    "# setattr()\tThis is the counterpart of getattr().\n",
    "# slice()\tReturn a sliced object representing a set of indices.\n",
    "# sorted()\tReturn a new sorted list from the items in iterable.\n",
    "# staticmethod()\tTransform a method into a static method.\n",
    "# str()\tReturn a str version of object.\n",
    "# sum()\tSums start and the items of an iterable.\n",
    "# super()\tReturn a proxy object that delegates method calls to a parent or sibling.\n",
    "# tuple()\tRather than being a function, is actually an immutable sequence type.\n",
    "# type()\tReturn the type of an object.\n",
    "# vars()\tReturn the dict attribute for any other object with a dict attribute.\n",
    "# zip()\tIterate over several iterables in parallel.\n",
    "# import()\tThis function is invoked by the import statement."
   ]
  }
 ],
 "metadata": {
  "kernelspec": {
   "display_name": "Python 3 (ipykernel)",
   "language": "python",
   "name": "python3"
  },
  "language_info": {
   "codemirror_mode": {
    "name": "ipython",
    "version": 3
   },
   "file_extension": ".py",
   "mimetype": "text/x-python",
   "name": "python",
   "nbconvert_exporter": "python",
   "pygments_lexer": "ipython3",
   "version": "3.9.12"
  }
 },
 "nbformat": 4,
 "nbformat_minor": 5
}
